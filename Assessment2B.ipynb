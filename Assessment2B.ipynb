{
  "cells": [
    {
      "cell_type": "markdown",
      "metadata": {
        "id": "view-in-github",
        "colab_type": "text"
      },
      "source": [
        "<a href=\"https://colab.research.google.com/github/AfeesAshraf/Guvi-task-4/blob/main/Assessment2B.ipynb\" target=\"_parent\"><img src=\"https://colab.research.google.com/assets/colab-badge.svg\" alt=\"Open In Colab\"/></a>"
      ]
    },
    {
      "cell_type": "markdown",
      "metadata": {
        "id": "_f5MYbCUFYvZ"
      },
      "source": [
        "###### Assessment"
      ]
    },
    {
      "cell_type": "code",
      "source": [
        "from google.colab import drive\n",
        "drive.mount('/content/drive')"
      ],
      "metadata": {
        "id": "5UVIrxkoFals",
        "outputId": "0ee8a24a-e3c1-4f49-eab3-577d62e4bd52",
        "colab": {
          "base_uri": "https://localhost:8080/"
        }
      },
      "execution_count": 29,
      "outputs": [
        {
          "output_type": "stream",
          "name": "stdout",
          "text": [
            "Drive already mounted at /content/drive; to attempt to forcibly remount, call drive.mount(\"/content/drive\", force_remount=True).\n"
          ]
        }
      ]
    },
    {
      "cell_type": "markdown",
      "metadata": {
        "id": "MuY6T4TgFYvg"
      },
      "source": [
        "###### I am going to provide two .csv files , you are supposed to work on them and have to provide solutions to the following problems"
      ]
    },
    {
      "cell_type": "markdown",
      "metadata": {
        "id": "as7pJuMcFYvi"
      },
      "source": [
        "###### import necessary libraries"
      ]
    },
    {
      "cell_type": "code",
      "execution_count": 48,
      "metadata": {
        "id": "4OJ0qi8ZFYvl"
      },
      "outputs": [],
      "source": [
        "import pandas as pd\n",
        "import matplotlib.pyplot as plt"
      ]
    },
    {
      "cell_type": "markdown",
      "metadata": {
        "id": "1_2gh7PbFYvp"
      },
      "source": [
        "###### merge those two csv files (after getting as dataframes, get them as a single dataframe)"
      ]
    },
    {
      "cell_type": "code",
      "execution_count": 37,
      "metadata": {
        "id": "KVWBXjwWFYvq"
      },
      "outputs": [],
      "source": [
        "df1=pd.read_csv(\"/content/drive/MyDrive/college_1.csv\")\n",
        "df2=pd.read_csv(\"/content/drive/MyDrive/college_2.csv\")\n",
        "df= pd.concat(objs=[df1,df2], ignore_index=True)\n",
        "df[\"Name\"]=df[\"Name\"].str.title()\n",
        "df[\"Name\"]=df[\"Name\"].str.strip()"
      ]
    },
    {
      "cell_type": "markdown",
      "metadata": {
        "id": "3fxWgtPKFYvr"
      },
      "source": [
        "###### Take each csv file , split that csv file into multiple categories (example csv files are added in the repo) \n"
      ]
    },
    {
      "cell_type": "markdown",
      "metadata": {
        "id": "_jvaxRM6FYvt"
      },
      "source": [
        "###### consider if the codekata score exceeds 15000 points(present week) then make a csv on those observations as Exceeded expectations.csv\n"
      ]
    },
    {
      "cell_type": "markdown",
      "metadata": {
        "id": "D-aCDMT1FYvu"
      },
      "source": [
        "###### if  10000<codekata score<15000   (Reached_expectations.csv)\n",
        "\n"
      ]
    },
    {
      "cell_type": "markdown",
      "metadata": {
        "id": "Pj4sGTjuFYvv"
      },
      "source": [
        "###### if  7000<codekata score<10000   (Needs_Improvement.csv)\n"
      ]
    },
    {
      "cell_type": "markdown",
      "metadata": {
        "id": "UwKz5gPsFYvw"
      },
      "source": [
        "###### if  codekate score < 7000        (Unsatisfactory.csv)"
      ]
    },
    {
      "cell_type": "code",
      "execution_count": 39,
      "metadata": {
        "id": "fd0o2HgyFYvx"
      },
      "outputs": [],
      "source": [
        "# Split the data into categories based on the codekata score\n",
        "exceeded_expectations = df[df['CodeKata Score'] > 15000]\n",
        "reached_expectations = df[(df['CodeKata Score'] > 10000) & (df['CodeKata Score'] <= 15000)]\n",
        "needs_improvement = df[(df['CodeKata Score'] > 7000) & (df['CodeKata Score'] <= 10000)]\n",
        "unsatisfactory = df[df['CodeKata Score'] <= 7000]\n",
        "\n",
        "# Save each category to a separate CSV file\n",
        "exceeded_expectations.to_csv('Exceeded_expectations.csv', index=False)\n",
        "reached_expectations.to_csv('Reached_expectations.csv', index=False)\n",
        "needs_improvement.to_csv('Needs_Improvement.csv', index=False)\n",
        "unsatisfactory.to_csv('Unsatisfactory.csv', index=False)\n"
      ]
    },
    {
      "cell_type": "code",
      "execution_count": null,
      "metadata": {
        "id": "nWCmQ3TeFYvy"
      },
      "outputs": [],
      "source": []
    },
    {
      "cell_type": "markdown",
      "metadata": {
        "id": "UARrfnpXFYvz"
      },
      "source": [
        "###### Average of previous week geekions vs this week geekions (i.e Previous Geekions vs CodeKata Score)"
      ]
    },
    {
      "cell_type": "code",
      "execution_count": 40,
      "metadata": {
        "id": "H8kkNjXGFYv1",
        "outputId": "eafd4f73-7989-4e10-b34a-25ae8c223d58",
        "colab": {
          "base_uri": "https://localhost:8080/"
        }
      },
      "outputs": [
        {
          "output_type": "stream",
          "name": "stdout",
          "text": [
            "Average of previous week geekions: 3842.3529411764707\n",
            "Average of this week codekata score: 4051.764705882353\n"
          ]
        }
      ],
      "source": [
        "# Calculate the average of previous week geekions and this week's codekata score\n",
        "prev_week_geekions_avg = df['Previous Geekions'].mean()\n",
        "this_week_geekions_avg = df['CodeKata Score'].mean()\n",
        "\n",
        "# Print the results\n",
        "print('Average of previous week geekions:', prev_week_geekions_avg)\n",
        "print('Average of this week codekata score:', this_week_geekions_avg)"
      ]
    },
    {
      "cell_type": "markdown",
      "metadata": {
        "id": "hkIv77jEFYv2"
      },
      "source": [
        "###### No of students participated "
      ]
    },
    {
      "cell_type": "code",
      "execution_count": 42,
      "metadata": {
        "id": "ZU7Xocj7FYv2",
        "outputId": "1e95e429-aa4e-4f76-9480-ed6d98224f48",
        "colab": {
          "base_uri": "https://localhost:8080/"
        }
      },
      "outputs": [
        {
          "output_type": "stream",
          "name": "stdout",
          "text": [
            "Number of students who participated: 112\n"
          ]
        }
      ],
      "source": [
        "df = df.dropna(subset=['CodeKata Score'])\n",
        "\n",
        "# Select only rows where the codekata score is greater than zero\n",
        "df1 = df.query('`CodeKata Score` > 0')\n",
        "\n",
        "# Get the number of rows in the dataframe, which is equal to the number of students who participated\n",
        "num_students = len(df1)\n",
        "\n",
        "# Print the result\n",
        "print('Number of students who participated:', num_students)"
      ]
    },
    {
      "cell_type": "markdown",
      "metadata": {
        "id": "NijsRPOxFYv3"
      },
      "source": [
        "###### #Average completion of python course or my_sql or python english or computational thinking"
      ]
    },
    {
      "cell_type": "code",
      "execution_count": 44,
      "metadata": {
        "id": "PanruwR6FYv4",
        "outputId": "4bb42bae-af6f-4761-978c-ce88ede0bfe3",
        "colab": {
          "base_uri": "https://localhost:8080/"
        }
      },
      "outputs": [
        {
          "output_type": "stream",
          "name": "stdout",
          "text": [
            "Average completion of Python course: 54.35294117647059\n",
            "Average completion of MySQL course: 23.5\n",
            "Average completion of Python for English Speakers course: 29.65714285714286\n",
            "Average completion of Computational Thinking course: 2.2\n"
          ]
        }
      ],
      "source": [
        "# Calculate the average completion percentage for a specific course\n",
        "python_completion_avg = df['python'].mean()\n",
        "mysql_completion_avg = df['mysql'].mean()\n",
        "python_english_completion_avg = df['python_en'].mean()\n",
        "comp_thinking_completion_avg = df['computational_thinking'].mean()\n",
        "\n",
        "# Print the results\n",
        "print('Average completion of Python course:', python_completion_avg)\n",
        "print('Average completion of MySQL course:', mysql_completion_avg)\n",
        "print('Average completion of Python for English Speakers course:', python_english_completion_avg)\n",
        "print('Average completion of Computational Thinking course:', comp_thinking_completion_avg)\n"
      ]
    },
    {
      "cell_type": "markdown",
      "metadata": {
        "id": "5uw6o9boFYv4"
      },
      "source": [
        "###### rising star of the week (top 3 candidate who performed well in that particular week)"
      ]
    },
    {
      "cell_type": "code",
      "execution_count": 45,
      "metadata": {
        "id": "yE4wZWtaFYv5",
        "outputId": "54262903-9333-45c1-89d9-dd3817dcfea6",
        "colab": {
          "base_uri": "https://localhost:8080/"
        }
      },
      "outputs": [
        {
          "output_type": "stream",
          "name": "stdout",
          "text": [
            "Top performers:\n",
            "          Name  python  mysql  Previous Geekions  CodeKata Score  \\\n",
            "0    A.Dharani    82.0   20.0              24500           24500   \n",
            "1   V.Jeevitha    82.0   20.0              21740           21740   \n",
            "2  Hemavathi.R   100.0  100.0              19680           19680   \n",
            "\n",
            "                         Department  Rising  python_en  computational_thinking  \n",
            "0  Computer Science and Engineering       0        NaN                     NaN  \n",
            "1  Computer Science and Engineering       0        NaN                     NaN  \n",
            "2  Computer Science and Engineering       0        NaN                     NaN  \n"
          ]
        }
      ],
      "source": [
        "# Sort the data by codekata score in descending order\n",
        "sorted_df = df.sort_values(by=['CodeKata Score'], ascending=False)\n",
        "\n",
        "# Get the top three performers\n",
        "top_performers = sorted_df.head(3)\n",
        "\n",
        "# Print the top performers\n",
        "print('Top performers:')\n",
        "print(top_performers)\n"
      ]
    },
    {
      "cell_type": "markdown",
      "metadata": {
        "id": "isnsHGUaFYv6"
      },
      "source": [
        "###### Shining stars of the week (top 3 candidates who has highest geekions)"
      ]
    },
    {
      "cell_type": "code",
      "execution_count": 47,
      "metadata": {
        "id": "vWKazARMFYv7",
        "outputId": "00248f97-6c00-4486-9f77-d907526a87e0",
        "colab": {
          "base_uri": "https://localhost:8080/"
        }
      },
      "outputs": [
        {
          "output_type": "stream",
          "name": "stdout",
          "text": [
            "Top performers by Geekions:\n",
            "          Name  python  mysql  Previous Geekions  CodeKata Score  \\\n",
            "0    A.Dharani    82.0   20.0              24500           24500   \n",
            "1   V.Jeevitha    82.0   20.0              21740           21740   \n",
            "2  Hemavathi.R   100.0  100.0              19680           19680   \n",
            "\n",
            "                         Department  Rising  python_en  computational_thinking  \n",
            "0  Computer Science and Engineering       0        NaN                     NaN  \n",
            "1  Computer Science and Engineering       0        NaN                     NaN  \n",
            "2  Computer Science and Engineering       0        NaN                     NaN  \n"
          ]
        }
      ],
      "source": [
        "# Sort the data by Geekions in descending order\n",
        "sorted_df = df.sort_values(by=['Previous Geekions'], ascending=False)\n",
        "\n",
        "# Get the top 3 performers\n",
        "top_performers = sorted_df.head(3)\n",
        "\n",
        "# Print the top performers\n",
        "print('Top performers by Geekions:')\n",
        "print(top_performers)"
      ]
    },
    {
      "cell_type": "markdown",
      "metadata": {
        "id": "-ReWIbu6FYv7"
      },
      "source": [
        "###### Department wise codekata performence (pie chart)"
      ]
    },
    {
      "cell_type": "code",
      "execution_count": 49,
      "metadata": {
        "id": "qC5TRz4PFYv8",
        "outputId": "6db46b01-0366-4a6a-f1af-6a3b983b3bf5",
        "colab": {
          "base_uri": "https://localhost:8080/",
          "height": 264
        }
      },
      "outputs": [
        {
          "output_type": "display_data",
          "data": {
            "text/plain": [
              "<Figure size 432x288 with 1 Axes>"
            ],
            "image/png": "[encoded data removed]"
          },
          "metadata": {}
        }
      ],
      "source": [
        "# Calculate the total codekata score by department\n",
        "dept_totals = df.groupby('Department')['CodeKata Score'].sum()\n",
        "\n",
        "# Plot a pie chart of the department-wise performance\n",
        "dept_totals.plot(kind='pie', autopct='%1.1f%%', startangle=90)\n",
        "\n",
        "# Add a title to the chart\n",
        "plt.title('Department-wise Performance based on Codekata Score')\n",
        "\n",
        "# Display the chart\n",
        "plt.show()\n"
      ]
    },
    {
      "cell_type": "markdown",
      "metadata": {
        "id": "b0awosFnFYv9"
      },
      "source": [
        "###### Department wise toppers (horizantal bar graph or any visual representations of your choice)"
      ]
    },
    {
      "cell_type": "code",
      "execution_count": 50,
      "metadata": {
        "id": "Dxx9RcI8FYv9",
        "outputId": "70768362-32a8-405b-acff-de852ed5914b",
        "colab": {
          "base_uri": "https://localhost:8080/",
          "height": 295
        }
      },
      "outputs": [
        {
          "output_type": "display_data",
          "data": {
            "text/plain": [
              "<Figure size 432x288 with 1 Axes>"
            ],
            "image/png": "[encoded data removed]"
          },
          "metadata": {
            "needs_background": "light"
          }
        }
      ],
      "source": [
        "# Get the top performer for each department\n",
        "top_performers = df.groupby('Department').apply(lambda x: x.nlargest(1, 'CodeKata Score')).reset_index(drop=True)\n",
        "\n",
        "# Sort the data by codekata score in descending order\n",
        "sorted_df = top_performers.sort_values(by=['CodeKata Score'], ascending=False)\n",
        "\n",
        "# Plot a horizontal bar graph of the department-wise toppers\n",
        "plt.barh(sorted_df['Department'], sorted_df['CodeKata Score'])\n",
        "\n",
        "# Add a title and labels to the chart\n",
        "plt.title('Department-wise Toppers based on Codekata Score')\n",
        "plt.xlabel('CodeKata Score')\n",
        "plt.ylabel('Department')\n",
        "\n",
        "# Display the chart\n",
        "plt.show()\n",
        "\n"
      ]
    },
    {
      "cell_type": "code",
      "execution_count": null,
      "metadata": {
        "id": "vVAl92s1FYv-"
      },
      "outputs": [],
      "source": []
    },
    {
      "cell_type": "code",
      "execution_count": null,
      "metadata": {
        "id": "vz26tL4QFYv-"
      },
      "outputs": [],
      "source": []
    },
    {
      "cell_type": "code",
      "execution_count": null,
      "metadata": {
        "id": "FTmqwUsnFYv_"
      },
      "outputs": [],
      "source": []
    }
  ],
  "metadata": {
    "kernelspec": {
      "display_name": "Python 3",
      "language": "python",
      "name": "python3"
    },
    "language_info": {
      "codemirror_mode": {
        "name": "ipython",
        "version": 3
      },
      "file_extension": ".py",
      "mimetype": "text/x-python",
      "name": "python",
      "nbconvert_exporter": "python",
      "pygments_lexer": "ipython3",
      "version": "3.8.3"
    },
    "colab": {
      "provenance": [],
      "include_colab_link": true
    }
  },
  "nbformat": 4,
  "nbformat_minor": 0
}